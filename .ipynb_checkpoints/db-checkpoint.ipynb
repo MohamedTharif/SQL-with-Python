{
 "cells": [
  {
   "cell_type": "code",
   "execution_count": null,
   "id": "5b0d954d-8c5d-40e1-998c-9913dc439b66",
   "metadata": {},
   "outputs": [],
   "source": [
    "#pip install  mysql-connector-python\n"
   ]
  },
  {
   "cell_type": "code",
   "execution_count": 6,
   "id": "d4fc2052-facc-4128-80d9-d82ad2576ee8",
   "metadata": {},
   "outputs": [],
   "source": [
    "import yfinance as yf\n",
    "#mysql connector for creating connection\n",
    "import mysql.connector \n"
   ]
  },
  {
   "cell_type": "code",
   "execution_count": 1,
   "id": "8196a2f7-fcd1-4afb-91d6-daa9cd1e68a9",
   "metadata": {},
   "outputs": [],
   "source": [
    "\n",
    "# Connecting from the server\n",
    "database = mysql.connector.connect(user = 'root',\n",
    "                               host = 'localhost',\n",
    "                              database = 'testDB',\n",
    "                              passwd = 'Tharif786')\n",
    "\n",
    "# Preparing a cursor object\n",
    "cursorObject = database.cursor()"
   ]
  },
  {
   "cell_type": "code",
   "execution_count": 86,
   "id": "d3798112-0894-4f02-aa06-87d33b75c37c",
   "metadata": {},
   "outputs": [
    {
     "name": "stdout",
     "output_type": "stream",
     "text": [
      "stocks\n"
     ]
    }
   ],
   "source": [
    "# Make sure to fetch any pending results before executing a new query\n",
    "cursorObject.execute(\"SHOW TABLES\")\n",
    "tables = cursorObject.fetchall()\n",
    "\n",
    "# Print the table names to consume the result\n",
    "for table_name in tables:\n",
    "    print(table_name[0])\n"
   ]
  },
  {
   "cell_type": "code",
   "execution_count": null,
   "id": "ef30c821-ba0c-4806-99c0-ee2a128d7078",
   "metadata": {},
   "outputs": [],
   "source": [
    "\n",
    "# Now, create the Stocks table\n",
    "create_table_query = \"\"\"\n",
    "CREATE TABLE Stocks (\n",
    "    Stock_name VARCHAR(26),\n",
    "    OPEN DECIMAL(15,10),\n",
    "    CLOSE DECIMAL(15,10),\n",
    "    HIGH DECIMAL(15,10),\n",
    "    LOW DECIMAL(15,10)\n",
    ");\n",
    "\"\"\"\n",
    "\n",
    "# Execute the query to create the table\n",
    "cursorObject.execute(create_table_query)\n",
    "\n",
    "# Commit the changes\n",
    "database.commit()\n",
    "\n",
    "print(\"Table 'Stocks' created successfully.\")\n"
   ]
  },
  {
   "cell_type": "code",
   "execution_count": 74,
   "id": "e9ff442b-720a-4750-a647-85b1c7c255ae",
   "metadata": {},
   "outputs": [
    {
     "name": "stderr",
     "output_type": "stream",
     "text": [
      "[*********************100%%**********************]  1 of 1 completed\n"
     ]
    }
   ],
   "source": [
    "ticker='AAPL'\n",
    "data=yf.download(ticker,period=\"1mo\")"
   ]
  },
  {
   "cell_type": "code",
   "execution_count": 64,
   "id": "f89d3231-0c3a-4e90-856b-7725c76bc49d",
   "metadata": {},
   "outputs": [
    {
     "name": "stdout",
     "output_type": "stream",
     "text": [
      "                  Open        High         Low       Close   Adj Close  \\\n",
      "Date                                                                     \n",
      "2024-07-15  236.479996  237.229996  233.089996  234.399994  234.128998   \n",
      "2024-07-16  235.000000  236.270004  232.330002  234.820007  234.548523   \n",
      "2024-07-17  229.449997  231.460007  226.639999  228.880005  228.615387   \n",
      "2024-07-18  230.279999  230.440002  222.270004  224.179993  223.920807   \n",
      "2024-07-19  224.820007  226.800003  223.279999  224.309998  224.050659   \n",
      "2024-07-22  227.009995  227.779999  223.089996  223.960007  223.701080   \n",
      "2024-07-23  224.369995  226.940002  222.679993  225.009995  224.749847   \n",
      "2024-07-24  224.000000  224.800003  217.130005  218.539993  218.287323   \n",
      "2024-07-25  218.929993  220.850006  214.619995  217.490005  217.238556   \n",
      "2024-07-26  218.699997  219.490005  216.009995  217.960007  217.708008   \n",
      "2024-07-29  216.960007  219.300003  215.750000  218.240005  217.987686   \n",
      "2024-07-30  219.190002  220.330002  216.119995  218.800003  218.547043   \n",
      "2024-07-31  221.440002  223.820007  220.630005  222.080002  221.823242   \n",
      "2024-08-01  224.369995  224.479996  217.020004  218.360001  218.107544   \n",
      "2024-08-02  219.149994  225.600006  217.710007  219.860001  219.605804   \n",
      "2024-08-05  199.089996  213.500000  196.000000  209.270004  209.028061   \n",
      "2024-08-06  205.300003  209.990005  201.070007  207.229996  206.990402   \n",
      "2024-08-07  206.899994  213.639999  206.389999  209.820007  209.577423   \n",
      "2024-08-08  213.110001  214.199997  208.830002  213.309998  213.063385   \n",
      "2024-08-09  212.100006  216.779999  211.970001  216.240005  215.990005   \n",
      "2024-08-12  216.070007  219.509995  215.600006  217.529999  217.529999   \n",
      "2024-08-13  219.104996  221.710007  219.009995  221.379303  221.379303   \n",
      "\n",
      "               Volume  \n",
      "Date                   \n",
      "2024-07-15   62631300  \n",
      "2024-07-16   43234300  \n",
      "2024-07-17   57345900  \n",
      "2024-07-18   66034600  \n",
      "2024-07-19   49151500  \n",
      "2024-07-22   48201800  \n",
      "2024-07-23   39960300  \n",
      "2024-07-24   61777600  \n",
      "2024-07-25   51391200  \n",
      "2024-07-26   41601300  \n",
      "2024-07-29   36311800  \n",
      "2024-07-30   41643800  \n",
      "2024-07-31   50036300  \n",
      "2024-08-01   62501000  \n",
      "2024-08-02  105568600  \n",
      "2024-08-05  119548600  \n",
      "2024-08-06   69660500  \n",
      "2024-08-07   63516400  \n",
      "2024-08-08   47161100  \n",
      "2024-08-09   42201600  \n",
      "2024-08-12   37992400  \n",
      "2024-08-13   19575623  \n"
     ]
    }
   ],
   "source": [
    "print(data)"
   ]
  },
  {
   "cell_type": "code",
   "execution_count": 75,
   "id": "ca08151e-499d-4486-9c48-116c1777f9e6",
   "metadata": {},
   "outputs": [],
   "source": [
    "data[\"Date\"] = data.index\n",
    "\n",
    "\n",
    "data.reset_index(drop=True,inplace=True)\n",
    "data = data[[\"Date\", \"Open\", \"High\", \"Low\", \"Close\",  \"Volume\"]]"
   ]
  },
  {
   "cell_type": "code",
   "execution_count": 76,
   "id": "a7e6f902-8194-4864-8df2-f7328516f263",
   "metadata": {},
   "outputs": [
    {
     "name": "stdout",
     "output_type": "stream",
     "text": [
      "         Date        Open        High         Low       Close     Volume\n",
      "0  2024-07-15  236.479996  237.229996  233.089996  234.399994   62631300\n",
      "1  2024-07-16  235.000000  236.270004  232.330002  234.820007   43234300\n",
      "2  2024-07-17  229.449997  231.460007  226.639999  228.880005   57345900\n",
      "3  2024-07-18  230.279999  230.440002  222.270004  224.179993   66034600\n",
      "4  2024-07-19  224.820007  226.800003  223.279999  224.309998   49151500\n",
      "5  2024-07-22  227.009995  227.779999  223.089996  223.960007   48201800\n",
      "6  2024-07-23  224.369995  226.940002  222.679993  225.009995   39960300\n",
      "7  2024-07-24  224.000000  224.800003  217.130005  218.539993   61777600\n",
      "8  2024-07-25  218.929993  220.850006  214.619995  217.490005   51391200\n",
      "9  2024-07-26  218.699997  219.490005  216.009995  217.960007   41601300\n",
      "10 2024-07-29  216.960007  219.300003  215.750000  218.240005   36311800\n",
      "11 2024-07-30  219.190002  220.330002  216.119995  218.800003   41643800\n",
      "12 2024-07-31  221.440002  223.820007  220.630005  222.080002   50036300\n",
      "13 2024-08-01  224.369995  224.479996  217.020004  218.360001   62501000\n",
      "14 2024-08-02  219.149994  225.600006  217.710007  219.860001  105568600\n",
      "15 2024-08-05  199.089996  213.500000  196.000000  209.270004  119548600\n",
      "16 2024-08-06  205.300003  209.990005  201.070007  207.229996   69660500\n",
      "17 2024-08-07  206.899994  213.639999  206.389999  209.820007   63516400\n",
      "18 2024-08-08  213.110001  214.199997  208.830002  213.309998   47161100\n",
      "19 2024-08-09  212.100006  216.779999  211.970001  216.240005   42201600\n",
      "20 2024-08-12  216.070007  219.509995  215.600006  217.529999   37992400\n",
      "21 2024-08-13  219.104996  221.710007  219.009995  221.347107   19615901\n"
     ]
    }
   ],
   "source": [
    "print(data)"
   ]
  },
  {
   "cell_type": "code",
   "execution_count": 35,
   "id": "28c69f7b-35ba-410f-9b7b-b6dad135fb9b",
   "metadata": {},
   "outputs": [
    {
     "name": "stdout",
     "output_type": "stream",
     "text": [
      "[('Stock_name', 'varchar(26)', 'YES', '', None, ''), ('OPEN', 'decimal(15,10)', 'YES', '', None, ''), ('CLOSE', 'decimal(15,10)', 'YES', '', None, ''), ('HIGH', 'decimal(15,10)', 'YES', '', None, ''), ('LOW', 'decimal(15,10)', 'YES', '', None, ''), ('Date', 'date', 'YES', '', None, '')]\n",
      "Stock_name\n",
      "OPEN\n",
      "CLOSE\n",
      "HIGH\n",
      "LOW\n",
      "Date\n"
     ]
    }
   ],
   "source": [
    "\n",
    "cursorObject.execute(\"desc stocks\")\n",
    "tables = cursorObject.fetchall()\n",
    "print(tables)\n",
    "\n",
    "# Print the table names to consume the result\n",
    "for table_name in tables:\n",
    "    print(table_name[0])"
   ]
  },
  {
   "cell_type": "code",
   "execution_count": 32,
   "id": "ad1b1d09-dcaf-4e8b-b2d8-457e26c24d80",
   "metadata": {},
   "outputs": [],
   "source": [
    "query=\"truncate Stocks\"\n",
    "#query=\"ALTER TABLE Stocks ADD Date Date\" \n",
    "cursorObject.execute(query)"
   ]
  },
  {
   "cell_type": "code",
   "execution_count": 77,
   "id": "dfa7efed-e0df-4617-a7f5-a55ed0fef368",
   "metadata": {},
   "outputs": [],
   "source": [
    "import datetime\n",
    "\n",
    "open_values = data['Open'].values\n",
    "close_values = data['Close'].values\n",
    "high_values = data['High'].values\n",
    "low_values = data['Low'].values\n",
    "\n",
    "date_values = data['Date'].values\n",
    "\n",
    "for open, close, high, low, date in zip(open_values, close_values, high_values, low_values, date_values):\n",
    "    # Convert numpy.datetime64 to datetime\n",
    "    date_as_datetime = datetime.datetime.utcfromtimestamp(date.astype('O')/1e9)\n",
    "    \n",
    "    # Format the datetime object as a string\n",
    "    formatted_date = date_as_datetime.strftime('%Y-%m-%d')\n",
    "    \n",
    "    # Insert the formatted date into the SQL query, enclosed in single quotes\n",
    "    query = f\"INSERT INTO stocks (stock_name, open, close, high, low, Date) VALUES ('AAPL', {open}, {close}, {high}, {low}, '{formatted_date}')\"\n",
    "    cursorObject.execute(query)\n",
    "\n",
    "database.commit()\n"
   ]
  },
  {
   "cell_type": "code",
   "execution_count": 83,
   "id": "d0af5c18-c5f0-48fa-bae2-fed7be3323d7",
   "metadata": {},
   "outputs": [
    {
     "name": "stdout",
     "output_type": "stream",
     "text": [
      "[('AAPL', Decimal('216.9600067139'), Decimal('218.2400054932'), Decimal('219.3000030518'), Decimal('215.7500000000'), datetime.date(2024, 7, 29))]\n"
     ]
    }
   ],
   "source": [
    "query = \"SELECT * FROM Stocks WHERE Date = '2024-07-29'\"\n",
    "cursorObject.execute(query)\n",
    "\n",
    "values = cursorObject.fetchall()\n",
    "print(values)\n"
   ]
  },
  {
   "cell_type": "code",
   "execution_count": 56,
   "id": "b8827495-a79c-4926-843c-f673aeb6499c",
   "metadata": {},
   "outputs": [],
   "source": [
    "database.close()"
   ]
  }
 ],
 "metadata": {
  "kernelspec": {
   "display_name": "Python 3 (ipykernel)",
   "language": "python",
   "name": "python3"
  },
  "language_info": {
   "codemirror_mode": {
    "name": "ipython",
    "version": 3
   },
   "file_extension": ".py",
   "mimetype": "text/x-python",
   "name": "python",
   "nbconvert_exporter": "python",
   "pygments_lexer": "ipython3",
   "version": "3.11.7"
  }
 },
 "nbformat": 4,
 "nbformat_minor": 5
}
