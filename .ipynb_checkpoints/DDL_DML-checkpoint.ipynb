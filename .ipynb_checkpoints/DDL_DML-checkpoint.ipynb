{
 "cells": [
  {
   "cell_type": "markdown",
   "id": "b446cee1-aaa9-47f9-b0b7-11283956b029",
   "metadata": {},
   "source": [
    "## CREATE CONNECTION"
   ]
  },
  {
   "cell_type": "code",
   "execution_count": 1,
   "id": "bad4cca8-bcf6-43bf-956a-a8124f9fc8ce",
   "metadata": {},
   "outputs": [],
   "source": [
    "#mysql connector for creating connection\n",
    "import mysql.connector "
   ]
  },
  {
   "cell_type": "code",
   "execution_count": 2,
   "id": "9bb7422e-08f6-48fa-b359-037c4b953508",
   "metadata": {},
   "outputs": [],
   "source": [
    "\n",
    "# Connecting from the server\n",
    "database = mysql.connector.connect(user = 'root',\n",
    "                               host = 'localhost',\n",
    "                              passwd = 'Tharif786')\n"
   ]
  },
  {
   "cell_type": "markdown",
   "id": "c871b41e-b829-40cb-8f55-835d891b0202",
   "metadata": {},
   "source": [
    "## Create Cursor Object"
   ]
  },
  {
   "cell_type": "code",
   "execution_count": 3,
   "id": "77afa7de-e6aa-427d-9d53-f939c10502d7",
   "metadata": {},
   "outputs": [],
   "source": [
    "\n",
    "# Preparing a cursor object\n",
    "cursor_object = database.cursor()\n"
   ]
  },
  {
   "cell_type": "markdown",
   "id": "25d04e65-1cef-4fc5-b009-daa62981a3e2",
   "metadata": {},
   "source": [
    "## Check For Databases"
   ]
  },
  {
   "cell_type": "code",
   "execution_count": 4,
   "id": "df0a79e2-094d-48ef-a807-5e0f9dc07149",
   "metadata": {},
   "outputs": [
    {
     "name": "stdout",
     "output_type": "stream",
     "text": [
      "('companydatabase',)\n",
      "('information_schema',)\n",
      "('library_management_system',)\n",
      "('mysql',)\n",
      "('performance_schema',)\n",
      "('sys',)\n",
      "('testdb',)\n"
     ]
    }
   ],
   "source": [
    "#check for databases\n",
    "cursor_object.execute(\"SHOW DATABASES\")\n",
    "\n",
    "#retrive all rows \n",
    "databases = cursor_object.fetchall()\n",
    "\n",
    "#printing all database names\n",
    "for database_name in databases:\n",
    "    print(database_name)"
   ]
  },
  {
   "cell_type": "markdown",
   "id": "8c2e98a8-a98c-4a2b-b2ff-a8ba763030e1",
   "metadata": {
    "jp-MarkdownHeadingCollapsed": true
   },
   "source": [
    "# DATA DEFINITION LANGUAGE"
   ]
  },
  {
   "cell_type": "markdown",
   "id": "120be0fd-1763-47ed-82e9-f948b9e2f6a7",
   "metadata": {
    "jp-MarkdownHeadingCollapsed": true
   },
   "source": [
    "#### Creating Databases"
   ]
  },
  {
   "cell_type": "code",
   "execution_count": 57,
   "id": "2255c294-8263-4b99-ad34-886e755532ff",
   "metadata": {},
   "outputs": [
    {
     "name": "stdout",
     "output_type": "stream",
     "text": [
      "('companydatabase',)\n",
      "('information_schema',)\n",
      "('library_management_system',)\n",
      "('mysql',)\n",
      "('performance_schema',)\n",
      "('sys',)\n",
      "('testdb',)\n"
     ]
    }
   ],
   "source": [
    "#creating a Database\n",
    "cursor_object.execute(\"CREATE DATABASE CompanyDatabase\")\n",
    "\n",
    "cursor_object.execute(\"SHOW DATABASES\")\n",
    "\n",
    "databases = cursor_object.fetchall()\n",
    "\n",
    "for database_name in databases:\n",
    "    print(database_name)"
   ]
  },
  {
   "cell_type": "markdown",
   "id": "1c3c9894-53d2-47e2-b2fd-19493020aa23",
   "metadata": {},
   "source": [
    "#### Creating tables and defining Schema with Constraints "
   ]
  },
  {
   "cell_type": "code",
   "execution_count": 5,
   "id": "efd92e48-b4df-4831-a460-1a12479e2a8b",
   "metadata": {},
   "outputs": [],
   "source": [
    "cursor_object.execute(\"USE CompanyDatabase\")"
   ]
  },
  {
   "cell_type": "code",
   "execution_count": 64,
   "id": "d96ca909-c27e-4603-b2d2-7b8cd4cbdaee",
   "metadata": {},
   "outputs": [],
   "source": [
    "cursor_object.execute(  \"\"\"CREATE TABLE Employees ( \n",
    "                                                    EmployeeID INT PRIMARY KEY ,\n",
    "                                                    FirstNAME VARCHAR(50) NOT NULL,\n",
    "                                                    LastName VARCHAR(50),\n",
    "                                                    DepartmentID INT NOT NULL,\n",
    "                                                    HireDate DATE,\n",
    "                                                    Salary Decimal(10,2) NOT NULL,\n",
    "                                                    ActiveStatus BOOLEAN DEFAULT TRUE\n",
    "                                                  )\"\"\"\n",
    "                     )\n",
    "                     \n",
    "    "
   ]
  },
  {
   "cell_type": "code",
   "execution_count": 65,
   "id": "9a32e0b8-4c6e-4894-a2cf-5be10d547438",
   "metadata": {},
   "outputs": [],
   "source": [
    "cursor_object.execute( \"\"\" CREATE TABLE Departments (\n",
    "                                                        DepartmentID INT PRIMARY KEY,\n",
    "                                                        DepartmentName VARCHAR(50) UNIQUE  \n",
    "                                                    )\"\"\"\n",
    "    \n",
    "                      )"
   ]
  },
  {
   "cell_type": "code",
   "execution_count": 66,
   "id": "9692aba8-18b9-4297-8843-48bac1dd34bf",
   "metadata": {},
   "outputs": [],
   "source": [
    "cursor_object.execute( \"\"\"  CREATE TABLE Projects ( \n",
    "                                                    ProjectID INT PRIMARY KEY,\n",
    "                                                    ProjectName VARCHAR(50) NOT NULL ,\n",
    "                                                    StartDate DATE NOT NULL,\n",
    "                                                    EndDate DATE DEFAULT NULL,\n",
    "                                                    Status VARCHAR(20) DEFAULT 'ONGOING'\n",
    "                                                    )\"\"\" \n",
    "                        )"
   ]
  },
  {
   "cell_type": "code",
   "execution_count": 67,
   "id": "fa83e96e-1ad8-48db-b1f6-c710af10d479",
   "metadata": {},
   "outputs": [],
   "source": [
    "cursor_object.execute( \"\"\" CREATE TABLE EmployeeProjects (\n",
    "                                                        EmployeeID INT REFERENCES Employees(EmployeeID),\n",
    "                                                        ProjectID INT REFERENCES Projects(ProjectID),\n",
    "                                                        Role VARCHAR(50)\n",
    "                                                        )\"\"\"       \n",
    "                     )"
   ]
  },
  {
   "cell_type": "code",
   "execution_count": 68,
   "id": "70d523b1-7429-4813-9670-c6a405071282",
   "metadata": {},
   "outputs": [
    {
     "name": "stdout",
     "output_type": "stream",
     "text": [
      "('departments',)\n",
      "('employeeprojects',)\n",
      "('employees',)\n",
      "('projects',)\n"
     ]
    }
   ],
   "source": [
    "cursor_object.execute(\"SHOW TABLES\")\n",
    "\n",
    "tables = cursor_object.fetchall()\n",
    "\n",
    "for table_name in tables:\n",
    "    print(table_name)"
   ]
  },
  {
   "cell_type": "code",
   "execution_count": 94,
   "id": "531c0413-23c3-44b5-8f4f-48e0bd4fcc90",
   "metadata": {},
   "outputs": [
    {
     "name": "stdout",
     "output_type": "stream",
     "text": [
      "DepartmentID\n",
      "DepartmentName\n"
     ]
    }
   ],
   "source": [
    "#describing table\n",
    "cursor_object.execute(\"desc departments\")\n",
    "\n",
    "#cursor_object.execute(\"desc Employees\")\n",
    "table_description = cursor_object.fetchall()\n",
    "\n",
    "# Print the column names \n",
    "for column_name in table_description:\n",
    "    print(column_name[0])"
   ]
  },
  {
   "cell_type": "code",
   "execution_count": 91,
   "id": "a41bd24e-8a59-4cab-b886-0247a721a12b",
   "metadata": {},
   "outputs": [],
   "source": [
    "database.commit()"
   ]
  },
  {
   "cell_type": "markdown",
   "id": "117169dc-20d1-4f49-af24-78479b247f63",
   "metadata": {},
   "source": [
    "#### Alter table and renaming"
   ]
  },
  {
   "cell_type": "code",
   "execution_count": 95,
   "id": "2bc6106c-d5ff-4412-919a-0eb4e05a3276",
   "metadata": {},
   "outputs": [],
   "source": [
    "#adding column in the table\n",
    "cursor_object.execute(\"ALTER TABLE Employees ADD COLUMN EMAIL VARCHAR(50) \")"
   ]
  },
  {
   "cell_type": "code",
   "execution_count": 8,
   "id": "aeaba368-8c8a-48be-b6b1-f23335a9ca97",
   "metadata": {},
   "outputs": [
    {
     "name": "stdout",
     "output_type": "stream",
     "text": [
      "EmployeeID\n",
      "FirstName\n",
      "LastName\n",
      "DepartmentID\n",
      "HireDate\n",
      "Salary\n",
      "ActiveStatus\n",
      "EMAIL\n"
     ]
    }
   ],
   "source": [
    "cursor_object.execute(\"desc Employees\")\n",
    "\n",
    "table_description = cursor_object.fetchall()\n",
    "\n",
    "# Print the column names \n",
    "for column_name in table_description:\n",
    "    print(column_name[0])"
   ]
  },
  {
   "cell_type": "code",
   "execution_count": 10,
   "id": "c3256469-3565-42a9-9752-6b0d61daab8c",
   "metadata": {},
   "outputs": [
    {
     "name": "stdout",
     "output_type": "stream",
     "text": [
      "EmployeeID\n",
      "FirstName\n",
      "LastName\n",
      "DepartmentID\n",
      "HireDate\n",
      "Salary\n",
      "ActiveStatus\n",
      "EMAIL\n"
     ]
    }
   ],
   "source": [
    "#RENAMING THE COLUMN\n",
    "cursor_object.execute(\"ALTER TABLE Employees RENAME COLUMN FirstNAME TO FirstName \")\n"
   ]
  },
  {
   "cell_type": "code",
   "execution_count": 12,
   "id": "b65598bf-e48c-4a84-a38f-5eadde71c716",
   "metadata": {},
   "outputs": [
    {
     "name": "stdout",
     "output_type": "stream",
     "text": [
      "('EmployeeID', 'int', 'NO', 'PRI', None, '')\n",
      "('FirstName', 'varchar(50)', 'NO', '', None, '')\n",
      "('LastName', 'varchar(50)', 'YES', '', None, '')\n",
      "('DepartmentID', 'int', 'NO', '', None, '')\n",
      "('HireDate', 'date', 'YES', '', None, '')\n",
      "('Salary', 'decimal(10,2)', 'NO', '', None, '')\n",
      "('ActiveStatus', 'tinyint(1)', 'YES', '', '1', '')\n",
      "('EMAIL', 'varchar(60)', 'YES', '', None, '')\n"
     ]
    }
   ],
   "source": [
    "#MODIFYING THE DATA TYPE OF A COLUMN\n",
    "cursor_object.execute(\"ALTER TABLE Employees MODIFY EMAIL VARCHAR(60) \")\n",
    "\n",
    "\n",
    "cursor_object.execute(\"desc Employees\")\n",
    "table_description = cursor_object.fetchall()\n",
    "\n",
    "# Print the column names \n",
    "for column_name in table_description:\n",
    "    print(column_name)"
   ]
  },
  {
   "cell_type": "code",
   "execution_count": 13,
   "id": "8322af75-15a0-4a44-a636-304de91ed2d3",
   "metadata": {},
   "outputs": [],
   "source": [
    "database.commit()"
   ]
  },
  {
   "cell_type": "markdown",
   "id": "9bab984d-31ed-455e-9684-7cde0d558875",
   "metadata": {},
   "source": [
    "# DATA MANIPULATION LANGUAGE"
   ]
  },
  {
   "cell_type": "markdown",
   "id": "53515e44-ad72-4e96-bc23-2c653b1f1999",
   "metadata": {},
   "source": [
    "## INSERT"
   ]
  },
  {
   "cell_type": "markdown",
   "id": "647a63e6-b170-48bc-90fd-2313f14777a2",
   "metadata": {},
   "source": [
    "#### Departments Table"
   ]
  },
  {
   "cell_type": "code",
   "execution_count": 19,
   "id": "81325851-6b4c-464e-acea-b8289ec7053b",
   "metadata": {},
   "outputs": [],
   "source": [
    "cursor_object.execute(\"INSERT INTO Departments VALUES(101,'IT')\")"
   ]
  },
  {
   "cell_type": "code",
   "execution_count": 20,
   "id": "2872718b-0c84-489d-a1e8-aee2acc51c2f",
   "metadata": {},
   "outputs": [],
   "source": [
    "cursor_object.execute(\"INSERT INTO Departments VALUES(102,'HR')\")"
   ]
  },
  {
   "cell_type": "code",
   "execution_count": 21,
   "id": "4680a8d6-a01d-4a33-b9b6-7ea117cfdcea",
   "metadata": {},
   "outputs": [],
   "source": [
    "cursor_object.execute(\"INSERT INTO Departments VALUES(103,'Finance')\")"
   ]
  },
  {
   "cell_type": "code",
   "execution_count": 22,
   "id": "7d79e2b1-34d3-400f-a49b-c4880ec6f79e",
   "metadata": {},
   "outputs": [],
   "source": [
    "cursor_object.execute(\"INSERT INTO Departments VALUES(104,'Technical')\")"
   ]
  },
  {
   "cell_type": "code",
   "execution_count": 23,
   "id": "8e672412-643a-4d81-828f-231c4eb7ccf9",
   "metadata": {},
   "outputs": [],
   "source": [
    "cursor_object.execute(\"INSERT INTO Departments VALUES(105,'Marketing')\")"
   ]
  },
  {
   "cell_type": "code",
   "execution_count": 11,
   "id": "84b519e1-11a6-4ec9-abaf-461deafd7750",
   "metadata": {},
   "outputs": [
    {
     "name": "stdout",
     "output_type": "stream",
     "text": [
      "(103, 'Finance')\n",
      "(102, 'HR')\n",
      "(101, 'IT')\n",
      "(105, 'Marketing')\n",
      "(104, 'Technical')\n"
     ]
    }
   ],
   "source": [
    "cursor_object.execute(\"SELECT * FROM DEPARTMENTS\")\n",
    "\n",
    "rows = cursor_object.fetchall()\n",
    "\n",
    "for attributes in rows:\n",
    "    print(attributes)"
   ]
  },
  {
   "cell_type": "markdown",
   "id": "e6dbd240-beb8-4cb5-b0ab-1c342804cde6",
   "metadata": {},
   "source": [
    "#### EmployeeProject Table"
   ]
  },
  {
   "cell_type": "code",
   "execution_count": 15,
   "id": "3371cb8b-0efd-4d8c-afde-9f20017e9dc6",
   "metadata": {},
   "outputs": [],
   "source": [
    "id=[1,2,3,4,5]\n",
    "pid=[201,202,203,204,205]\n",
    "Role=['Manager','Developer','Tester','Analyst','Consultant']\n",
    "\n",
    "for i in range(0,len(pid)):\n",
    "    cursor_object.execute(f\"INSERT INTO EmployeeProjects VALUES({id[i]},{pid[i]},'{Role[i]}')\")"
   ]
  },
  {
   "cell_type": "code",
   "execution_count": 14,
   "id": "3910a28d-80ac-4992-afe1-a85da93009b9",
   "metadata": {},
   "outputs": [
    {
     "name": "stdout",
     "output_type": "stream",
     "text": [
      "(1, 201, 'Manager')\n",
      "(2, 202, 'Developer')\n",
      "(3, 203, 'Tester')\n",
      "(4, 204, 'Analyst')\n",
      "(5, 205, 'Consultant')\n"
     ]
    }
   ],
   "source": [
    "cursor_object.execute(\"SELECT * FROM EmployeeProjects\")\n",
    "\n",
    "rows = cursor_object.fetchall()\n",
    "\n",
    "for attributes in rows:\n",
    "    print(attributes)"
   ]
  },
  {
   "cell_type": "markdown",
   "id": "3acaf922-7807-4e06-a618-c31fdc8ba7f5",
   "metadata": {},
   "source": [
    "#### Employees Table"
   ]
  },
  {
   "cell_type": "code",
   "execution_count": 11,
   "id": "4817bee4-8360-4b2b-8293-94e959e0f408",
   "metadata": {},
   "outputs": [
    {
     "name": "stdout",
     "output_type": "stream",
     "text": [
      "('EmployeeID', 'int', 'NO', 'PRI', None, '')\n",
      "('FirstName', 'varchar(50)', 'NO', '', None, '')\n",
      "('LastName', 'varchar(50)', 'YES', '', None, '')\n",
      "('DepartmentID', 'int', 'NO', '', None, '')\n",
      "('HireDate', 'date', 'YES', '', None, '')\n",
      "('Salary', 'decimal(10,2)', 'NO', '', None, '')\n",
      "('ActiveStatus', 'tinyint(1)', 'YES', '', '1', '')\n",
      "('EMAIL', 'varchar(60)', 'YES', '', None, '')\n"
     ]
    }
   ],
   "source": [
    "cursor_object.execute(\"DESC Employees\")\n",
    "\n",
    "rows = cursor_object.fetchall()\n",
    "\n",
    "for attributes in rows:\n",
    "    print(attributes)"
   ]
  },
  {
   "cell_type": "code",
   "execution_count": 12,
   "id": "39b8e793-d42c-4fb3-8b0a-6879bcd750c3",
   "metadata": {},
   "outputs": [],
   "source": [
    "cursor_object.execute(\"\"\"INSERT INTO Employees(EmployeeID,FirstName, LastName ,Email,DepartmentID,HireDate,Salary,ActiveStatus) VALUES\n",
    "                        (1, 'John', 'Doe', 'john.doe@example.com', 101, '2020-05-01', 50000.00, TRUE),\n",
    "                        (2, 'Jane', 'Smith', 'jane.smith@example.com', 102, '2021-07-15', 60000.00, TRUE),\n",
    "                        (3, 'Mike', 'Brown', 'mike.brown@example.com', 101, '2022-01-10', 55000.00, TRUE),\n",
    "                        (4, 'Emily', 'White', 'emily.white@example.com', 103, '2021-12-05', 62000.00, FALSE),\n",
    "                        (5, 'David', 'Black', 'david.black@example.com', 102, '2019-03-20', 70000.00, TRUE);\n",
    "                     \"\"\")\n",
    "\n"
   ]
  },
  {
   "cell_type": "code",
   "execution_count": 13,
   "id": "931876a4-1d9c-495e-b458-97b84b42fbbf",
   "metadata": {},
   "outputs": [
    {
     "name": "stdout",
     "output_type": "stream",
     "text": [
      "(1, 'John', 'Doe', 101, datetime.date(2020, 5, 1), Decimal('50000.00'), 1, 'john.doe@example.com')\n",
      "(2, 'Jane', 'Smith', 102, datetime.date(2021, 7, 15), Decimal('60000.00'), 1, 'jane.smith@example.com')\n",
      "(3, 'Mike', 'Brown', 101, datetime.date(2022, 1, 10), Decimal('55000.00'), 1, 'mike.brown@example.com')\n",
      "(4, 'Emily', 'White', 103, datetime.date(2021, 12, 5), Decimal('62000.00'), 0, 'emily.white@example.com')\n",
      "(5, 'David', 'Black', 102, datetime.date(2019, 3, 20), Decimal('70000.00'), 1, 'david.black@example.com')\n"
     ]
    }
   ],
   "source": [
    "cursor_object.execute(\"SELECT * FROM Employees\")\n",
    "\n",
    "rows = cursor_object.fetchall()\n",
    "\n",
    "for attributes in rows:\n",
    "    print(attributes)"
   ]
  },
  {
   "cell_type": "markdown",
   "id": "9e89ebc7-56bd-4eaf-b0ed-992b4b23d6e8",
   "metadata": {},
   "source": [
    "#### Projects Table"
   ]
  },
  {
   "cell_type": "code",
   "execution_count": 15,
   "id": "14a520ed-6553-465d-95d6-e1af18ee3761",
   "metadata": {},
   "outputs": [],
   "source": [
    "cursor_object.execute(\"\"\"INSERT INTO Projects VALUES\n",
    "                        (201, 'Alpha', '2023-01-01', '2023-12-31', 'Ongoing'),\n",
    "                        (202, 'Beta', '2022-05-01', NULL, 'Ongoing'),\n",
    "                        (203, 'Gamma', '2021-03-15', '2022-10-30', 'Completed'),\n",
    "                        (204, 'Delta', '2023-07-01', NULL, 'Ongoing'),\n",
    "                        (205,'Nova','2023-08-15',NULL,'Ongoing');\n",
    "                        \"\"\")"
   ]
  },
  {
   "cell_type": "code",
   "execution_count": 16,
   "id": "0cc7b0de-a7c7-4fb7-bbed-2a30d30ada51",
   "metadata": {},
   "outputs": [
    {
     "name": "stdout",
     "output_type": "stream",
     "text": [
      "(201, 'Alpha', datetime.date(2023, 1, 1), datetime.date(2023, 12, 31), 'Ongoing')\n",
      "(202, 'Beta', datetime.date(2022, 5, 1), None, 'Ongoing')\n",
      "(203, 'Gamma', datetime.date(2021, 3, 15), datetime.date(2022, 10, 30), 'Completed')\n",
      "(204, 'Delta', datetime.date(2023, 7, 1), None, 'Ongoing')\n",
      "(205, 'Nova', datetime.date(2023, 8, 15), None, 'Ongoing')\n"
     ]
    }
   ],
   "source": [
    "cursor_object.execute(\"SELECT * FROM Projects\")\n",
    "\n",
    "rows = cursor_object.fetchall()\n",
    "\n",
    "for attributes in rows:\n",
    "    print(attributes)"
   ]
  },
  {
   "cell_type": "markdown",
   "id": "27d0dfba-3397-4278-8cfa-9236b1bb8b4d",
   "metadata": {},
   "source": [
    "## UPDATE"
   ]
  },
  {
   "cell_type": "code",
   "execution_count": 27,
   "id": "12de5d8f-5088-40ba-9ac9-cd85f2e37af2",
   "metadata": {},
   "outputs": [],
   "source": [
    "# Update record in the Projects table\n",
    "query = \"UPDATE Projects SET EndDate = %s,Status=%s WHERE ProjectName = %s\"\n",
    "values = ('2024-09-15', 'Completed','Nova')\n",
    "cursor_object.execute(query, values)"
   ]
  },
  {
   "cell_type": "code",
   "execution_count": 28,
   "id": "09db7612-1b06-40b4-af47-b212cf543923",
   "metadata": {},
   "outputs": [
    {
     "name": "stdout",
     "output_type": "stream",
     "text": [
      "(201, 'Alpha', datetime.date(2023, 1, 1), datetime.date(2023, 12, 31), 'Ongoing')\n",
      "(202, 'Beta', datetime.date(2022, 5, 1), None, 'Ongoing')\n",
      "(203, 'Gamma', datetime.date(2021, 3, 15), datetime.date(2022, 10, 30), 'Completed')\n",
      "(204, 'Delta', datetime.date(2023, 7, 1), None, 'Ongoing')\n",
      "(205, 'Nova', datetime.date(2023, 8, 15), datetime.date(2024, 9, 15), 'Completed')\n"
     ]
    }
   ],
   "source": [
    "cursor_object.execute(\"SELECT * FROM Projects\")\n",
    "\n",
    "rows = cursor_object.fetchall()\n",
    "\n",
    "for attributes in rows:\n",
    "    print(attributes)"
   ]
  },
  {
   "cell_type": "markdown",
   "id": "2f32e843-4db6-43ed-8f5f-0979deaf2962",
   "metadata": {},
   "source": [
    "## DELETE"
   ]
  },
  {
   "cell_type": "code",
   "execution_count": 38,
   "id": "70bebfbc-7e0e-4522-bbaf-6a3fffb51b78",
   "metadata": {},
   "outputs": [],
   "source": [
    "cursor_object.execute(\"INSERT INTO Departments VALUES(108,'computer')\")"
   ]
  },
  {
   "cell_type": "code",
   "execution_count": 39,
   "id": "7d9a02af-2199-433a-8338-2f3279b92c2c",
   "metadata": {},
   "outputs": [
    {
     "name": "stdout",
     "output_type": "stream",
     "text": [
      "(108, 'computer')\n",
      "(103, 'Finance')\n",
      "(102, 'HR')\n",
      "(101, 'IT')\n",
      "(105, 'Marketing')\n",
      "(104, 'Technical')\n"
     ]
    }
   ],
   "source": [
    "cursor_object.execute(\"SELECT * FROM Departments \")\n",
    "\n",
    "rows = cursor_object.fetchall()\n",
    "\n",
    "for attributes in rows:\n",
    "    print(attributes)"
   ]
  },
  {
   "cell_type": "code",
   "execution_count": 40,
   "id": "954d3ffa-1e4d-4c92-bb23-a9b24008bbe6",
   "metadata": {},
   "outputs": [],
   "source": [
    "cursor_object.execute(\"DELETE FROM Departments WHERE DepartmentID = 108\")"
   ]
  },
  {
   "cell_type": "code",
   "execution_count": 41,
   "id": "11778362-bfcd-4a9e-89ed-eecb9133d04d",
   "metadata": {},
   "outputs": [
    {
     "name": "stdout",
     "output_type": "stream",
     "text": [
      "(103, 'Finance')\n",
      "(102, 'HR')\n",
      "(101, 'IT')\n",
      "(105, 'Marketing')\n",
      "(104, 'Technical')\n"
     ]
    }
   ],
   "source": [
    "cursor_object.execute(\"SELECT * FROM Departments \")\n",
    "\n",
    "rows = cursor_object.fetchall()\n",
    "\n",
    "for attributes in rows:\n",
    "    print(attributes)"
   ]
  },
  {
   "cell_type": "markdown",
   "id": "158005ee-bbba-421e-bd5d-2725f76cea39",
   "metadata": {},
   "source": [
    "## TRUNCATE"
   ]
  },
  {
   "cell_type": "code",
   "execution_count": 42,
   "id": "8e2413ef-a89a-4b47-b52e-acb845405007",
   "metadata": {},
   "outputs": [],
   "source": [
    "#cursor_object.execute(\"TRUNCATE Departments\")"
   ]
  },
  {
   "cell_type": "code",
   "execution_count": 43,
   "id": "5d9aa525-68db-4a45-a128-40b529e845ff",
   "metadata": {},
   "outputs": [],
   "source": [
    "#cursor_object.execute(\"DROP Departments\")"
   ]
  },
  {
   "cell_type": "code",
   "execution_count": 44,
   "id": "f58c2bb8-5874-4cb5-b42e-83d7ef68070c",
   "metadata": {},
   "outputs": [],
   "source": [
    "database.commit()"
   ]
  },
  {
   "cell_type": "markdown",
   "id": "ebc7b354-9128-41c2-8abc-b69e326da295",
   "metadata": {},
   "source": [
    "# Transaction Control Statements"
   ]
  },
  {
   "cell_type": "markdown",
   "id": "f4a5994f-7d44-4498-a3e4-098d506cb483",
   "metadata": {},
   "source": [
    "## Rollback and Savepoint"
   ]
  },
  {
   "cell_type": "code",
   "execution_count": 71,
   "id": "c0eba76e-acd1-4fcb-9142-875e2ee174c3",
   "metadata": {},
   "outputs": [],
   "source": [
    "cursor_object.execute(\"SAVEPOINT savepoint_1\")"
   ]
  },
  {
   "cell_type": "code",
   "execution_count": 72,
   "id": "5cd023d8-1b5a-4536-b1d1-06debce88c3a",
   "metadata": {},
   "outputs": [
    {
     "name": "stdout",
     "output_type": "stream",
     "text": [
      "(103, 'Finance')\n",
      "(102, 'HR')\n",
      "(101, 'IT')\n",
      "(105, 'Marketing')\n",
      "(104, 'Technical')\n"
     ]
    }
   ],
   "source": [
    "cursor_object.execute(\"SELECT * FROM Departments \")\n",
    "\n",
    "rows = cursor_object.fetchall()\n",
    "\n",
    "for attributes in rows:\n",
    "    print(attributes)"
   ]
  },
  {
   "cell_type": "code",
   "execution_count": 73,
   "id": "e61f673b-4aa6-45e3-9615-138339c2fc61",
   "metadata": {},
   "outputs": [],
   "source": [
    "cursor_object.execute(\"INSERT INTO Departments (DepartmentID, DepartmentName) VALUES (108, 'Operations')\")\n"
   ]
  },
  {
   "cell_type": "code",
   "execution_count": 74,
   "id": "71de0d2a-034f-4617-b7d8-8222136fd2cc",
   "metadata": {},
   "outputs": [
    {
     "name": "stdout",
     "output_type": "stream",
     "text": [
      "(103, 'Finance')\n",
      "(102, 'HR')\n",
      "(101, 'IT')\n",
      "(105, 'Marketing')\n",
      "(108, 'Operations')\n",
      "(104, 'Technical')\n"
     ]
    }
   ],
   "source": [
    "cursor_object.execute(\"SELECT * FROM Departments \")\n",
    "\n",
    "rows = cursor_object.fetchall()\n",
    "\n",
    "for attributes in rows:\n",
    "    print(attributes)"
   ]
  },
  {
   "cell_type": "code",
   "execution_count": 75,
   "id": "8ffe2789-33b0-4d1a-97f0-76d0d1c62866",
   "metadata": {},
   "outputs": [],
   "source": [
    "database.rollback()"
   ]
  },
  {
   "cell_type": "code",
   "execution_count": 76,
   "id": "b07a65b4-a5aa-44d8-b970-9bb4dd5c68bd",
   "metadata": {},
   "outputs": [
    {
     "name": "stdout",
     "output_type": "stream",
     "text": [
      "(103, 'Finance')\n",
      "(102, 'HR')\n",
      "(101, 'IT')\n",
      "(105, 'Marketing')\n",
      "(104, 'Technical')\n"
     ]
    }
   ],
   "source": [
    "cursor_object.execute(\"SELECT * FROM Departments \")\n",
    "\n",
    "rows = cursor_object.fetchall()\n",
    "\n",
    "for attributes in rows:\n",
    "    print(attributes)"
   ]
  },
  {
   "cell_type": "code",
   "execution_count": 77,
   "id": "cbb2f000-74fe-4262-8e2b-6da4a39c4e48",
   "metadata": {},
   "outputs": [],
   "source": [
    "database.commit()"
   ]
  }
 ],
 "metadata": {
  "kernelspec": {
   "display_name": "Python 3 (ipykernel)",
   "language": "python",
   "name": "python3"
  },
  "language_info": {
   "codemirror_mode": {
    "name": "ipython",
    "version": 3
   },
   "file_extension": ".py",
   "mimetype": "text/x-python",
   "name": "python",
   "nbconvert_exporter": "python",
   "pygments_lexer": "ipython3",
   "version": "3.11.7"
  }
 },
 "nbformat": 4,
 "nbformat_minor": 5
}
