{
 "cells": [
  {
   "cell_type": "markdown",
   "id": "69db2116-402a-4932-b755-e0aec3173347",
   "metadata": {},
   "source": [
    " # DATA PROJECTION STATEMENTS"
   ]
  },
  {
   "cell_type": "markdown",
   "id": "9efde466-f8e8-484c-b38a-b3a911e1270b",
   "metadata": {},
   "source": [
    "## Create Connection"
   ]
  },
  {
   "cell_type": "code",
   "execution_count": 1,
   "id": "cc5f2e1d-3d68-4a27-9f50-995c2bb5e65f",
   "metadata": {},
   "outputs": [],
   "source": [
    "#mysql connector for creating connection\n",
    "import mysql.connector "
   ]
  },
  {
   "cell_type": "code",
   "execution_count": 2,
   "id": "1973c63b-c24d-44e7-acb9-a0ceb26cb91f",
   "metadata": {},
   "outputs": [],
   "source": [
    "\n",
    "# Connecting from the server\n",
    "database = mysql.connector.connect(user = 'root',\n",
    "                               host = 'localhost',\n",
    "                              passwd = 'Tharif786')\n"
   ]
  },
  {
   "cell_type": "code",
   "execution_count": 3,
   "id": "264cc508-c6ce-4e50-a194-d331f2a46691",
   "metadata": {},
   "outputs": [],
   "source": [
    "# Preparing a cursor object\n",
    "cursor = database.cursor()\n"
   ]
  },
  {
   "cell_type": "code",
   "execution_count": 5,
   "id": "064c8ef5-a8df-461a-bd84-b5f753248a79",
   "metadata": {},
   "outputs": [],
   "source": [
    "cursor.execute(\"USE CompanyDatabase\")"
   ]
  },
  {
   "cell_type": "markdown",
   "id": "41388ebf-d313-4113-971c-2a23f0f56d10",
   "metadata": {},
   "source": [
    "## Multi column"
   ]
  },
  {
   "cell_type": "code",
   "execution_count": 6,
   "id": "6b911a4d-0e0a-4825-9a56-2d264208e7c7",
   "metadata": {},
   "outputs": [
    {
     "name": "stdout",
     "output_type": "stream",
     "text": [
      "('John', 'Doe', Decimal('50000.00'))\n",
      "('Jane', 'Smith', Decimal('60000.00'))\n",
      "('Mike', 'Brown', Decimal('55000.00'))\n",
      "('Emily', 'White', Decimal('62000.00'))\n",
      "('David', 'Black', Decimal('70000.00'))\n"
     ]
    }
   ],
   "source": [
    "query = \"SELECT FirstName, LastName, Salary FROM Employees\"\n",
    "cursor.execute(query)\n",
    "\n",
    "# Fetch and display results\n",
    "for row in cursor.fetchall():\n",
    "    print(row)\n"
   ]
  },
  {
   "cell_type": "markdown",
   "id": "5a169a21-0aee-4e66-92c7-e6cdab5cb403",
   "metadata": {},
   "source": [
    "## Column Alias"
   ]
  },
  {
   "cell_type": "code",
   "execution_count": 7,
   "id": "f5845876-8ff7-4429-bd52-81fc3400c46d",
   "metadata": {},
   "outputs": [
    {
     "name": "stdout",
     "output_type": "stream",
     "text": [
      "('John', 'Doe', Decimal('50000.00'))\n",
      "('Jane', 'Smith', Decimal('60000.00'))\n",
      "('Mike', 'Brown', Decimal('55000.00'))\n",
      "('Emily', 'White', Decimal('62000.00'))\n",
      "('David', 'Black', Decimal('70000.00'))\n"
     ]
    }
   ],
   "source": [
    "query = \"SELECT FirstName AS 'First Name', LastName AS 'Last Name', Salary AS 'Monthly Salary' FROM Employees\"\n",
    "cursor.execute(query)\n",
    "\n",
    "# Fetch and display results\n",
    "for row in cursor.fetchall():\n",
    "    print(row)\n"
   ]
  },
  {
   "cell_type": "markdown",
   "id": "d61f4500-d243-413b-84ba-6b622534268c",
   "metadata": {},
   "source": [
    "## Basic Arithmetic Operations"
   ]
  },
  {
   "cell_type": "code",
   "execution_count": 8,
   "id": "6dab9ec2-b4f3-482b-bcc6-4295f38aba05",
   "metadata": {},
   "outputs": [
    {
     "name": "stdout",
     "output_type": "stream",
     "text": [
      "('John', 'Doe', Decimal('50000.00'), Decimal('600000.00'))\n",
      "('Jane', 'Smith', Decimal('60000.00'), Decimal('720000.00'))\n",
      "('Mike', 'Brown', Decimal('55000.00'), Decimal('660000.00'))\n",
      "('Emily', 'White', Decimal('62000.00'), Decimal('744000.00'))\n",
      "('David', 'Black', Decimal('70000.00'), Decimal('840000.00'))\n"
     ]
    }
   ],
   "source": [
    "query = \"SELECT FirstName, LastName, Salary, (Salary * 12) AS AnnualSalary FROM Employees\"\n",
    "cursor.execute(query)\n",
    "\n",
    "# Fetch and display results\n",
    "for row in cursor.fetchall():\n",
    "    print(row)\n"
   ]
  },
  {
   "cell_type": "markdown",
   "id": "db694680-126d-4b24-a186-a74995aa15e9",
   "metadata": {},
   "source": [
    "## Distinct Records"
   ]
  },
  {
   "cell_type": "code",
   "execution_count": 10,
   "id": "50106484-35a5-4379-9998-6cc9060df7a6",
   "metadata": {},
   "outputs": [
    {
     "name": "stdout",
     "output_type": "stream",
     "text": [
      "(101,)\n",
      "(102,)\n",
      "(103,)\n"
     ]
    }
   ],
   "source": [
    "query = \"SELECT DISTINCT DepartmentID FROM Employees\"\n",
    "cursor.execute(query)\n",
    "\n",
    "# Fetch and display results\n",
    "for row in cursor.fetchall():\n",
    "    print(row)\n"
   ]
  },
  {
   "cell_type": "markdown",
   "id": "0932bbc0-0774-49cf-8b23-29cb0e58727e",
   "metadata": {},
   "source": [
    "## Concatenation"
   ]
  },
  {
   "cell_type": "code",
   "execution_count": 11,
   "id": "2626b9cc-8a98-45c7-9ca0-5bf36a385f03",
   "metadata": {},
   "outputs": [
    {
     "name": "stdout",
     "output_type": "stream",
     "text": [
      "('John Doe', 101)\n",
      "('Jane Smith', 102)\n",
      "('Mike Brown', 101)\n",
      "('Emily White', 103)\n",
      "('David Black', 102)\n"
     ]
    }
   ],
   "source": [
    "query = \"SELECT CONCAT(FirstName, ' ', LastName) AS FullName, DepartmentID FROM Employees\"\n",
    "cursor.execute(query)\n",
    "\n",
    "# Fetch and display results\n",
    "for row in cursor.fetchall():\n",
    "    print(row)\n"
   ]
  },
  {
   "cell_type": "markdown",
   "id": "64eaca20-316b-4430-a119-1d6489c40822",
   "metadata": {},
   "source": [
    "## Basic Where"
   ]
  },
  {
   "cell_type": "code",
   "execution_count": 12,
   "id": "a48e044a-9b74-458e-a542-be41cc7f27d6",
   "metadata": {},
   "outputs": [
    {
     "name": "stdout",
     "output_type": "stream",
     "text": [
      "('Jane', 'Smith', Decimal('60000.00'))\n",
      "('Mike', 'Brown', Decimal('55000.00'))\n",
      "('Emily', 'White', Decimal('62000.00'))\n",
      "('David', 'Black', Decimal('70000.00'))\n"
     ]
    }
   ],
   "source": [
    "query = \"SELECT FirstName, LastName, Salary FROM Employees WHERE Salary > 50000\"\n",
    "cursor.execute(query)\n",
    "\n",
    "# Fetch and display results\n",
    "for row in cursor.fetchall():\n",
    "    print(row)\n"
   ]
  },
  {
   "cell_type": "code",
   "execution_count": 14,
   "id": "aeab93d8-1934-404b-aea1-d29b7506b283",
   "metadata": {},
   "outputs": [
    {
     "name": "stdout",
     "output_type": "stream",
     "text": [
      "('John', 'Doe', Decimal('600000.00'))\n",
      "('Mike', 'Brown', Decimal('660000.00'))\n"
     ]
    }
   ],
   "source": [
    "query = \"\"\"\n",
    "SELECT \n",
    "    FirstName AS 'First Name',\n",
    "    LastName AS 'Last Name',\n",
    "    (Salary * 12) AS AnnualSalary \n",
    "FROM Employees\n",
    "WHERE DepartmentID = 101 AND Salary > 40000\n",
    "\"\"\"\n",
    "cursor.execute(query)\n",
    "\n",
    "# Fetch and display results\n",
    "for row in cursor.fetchall():\n",
    "    print(row)\n"
   ]
  },
  {
   "cell_type": "code",
   "execution_count": 15,
   "id": "ebac7f33-243e-4031-982c-bfde415c8f7a",
   "metadata": {},
   "outputs": [
    {
     "data": {
      "text/plain": [
       "True"
      ]
     },
     "execution_count": 15,
     "metadata": {},
     "output_type": "execute_result"
    }
   ],
   "source": [
    "cursor.close()"
   ]
  },
  {
   "cell_type": "code",
   "execution_count": 16,
   "id": "8c1c7620-c7aa-4c81-bf94-ec347383a259",
   "metadata": {},
   "outputs": [],
   "source": [
    "database.close()"
   ]
  }
 ],
 "metadata": {
  "kernelspec": {
   "display_name": "Python 3 (ipykernel)",
   "language": "python",
   "name": "python3"
  },
  "language_info": {
   "codemirror_mode": {
    "name": "ipython",
    "version": 3
   },
   "file_extension": ".py",
   "mimetype": "text/x-python",
   "name": "python",
   "nbconvert_exporter": "python",
   "pygments_lexer": "ipython3",
   "version": "3.11.7"
  }
 },
 "nbformat": 4,
 "nbformat_minor": 5
}
